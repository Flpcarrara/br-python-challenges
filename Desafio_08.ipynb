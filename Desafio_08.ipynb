{
  "cells": [
    {
      "cell_type": "markdown",
      "metadata": {
        "id": "view-in-github",
        "colab_type": "text"
      },
      "source": [
        "<a href=\"https://colab.research.google.com/github/Flpcarrara/br-python-challenges/blob/master/Desafio_08.ipynb\" target=\"_parent\"><img src=\"https://colab.research.google.com/assets/colab-badge.svg\" alt=\"Open In Colab\"/></a>"
      ]
    },
    {
      "cell_type": "markdown",
      "metadata": {
        "id": "o3tkeMDNf6Jo"
      },
      "source": [
        "### Desafio 8\n",
        "\n",
        "Escreva um script Python para encontrar as 10 palavras mais longas em um arquivo de texto.\n",
        "O arquivo .txt está localizado na mesma pasta do projeto (**texto.txt**)."
      ]
    },
    {
      "cell_type": "code",
      "execution_count": 32,
      "metadata": {
        "colab": {
          "base_uri": "https://localhost:8080/"
        },
        "id": "EknxjSG0f6Jo",
        "outputId": "62a77b4d-eaa5-4419-85b8-6754740d29e4"
      },
      "outputs": [
        {
          "output_type": "stream",
          "name": "stdout",
          "text": [
            "What is Python language? \n",
            "Python is a widely used high-level, general-purpose, interpreted, dynamic programming language. Its design philosophy emphasizes code readability, and its syntax allows programmers to express concepts in fewer lines of code than possible in languages such as C++ or Java. \n",
            "Python supports multiple programming paradigms, including object-oriented, imperative and functional programming or procedural styles. It features a dynamic type system and automatic memory management and has a large and comprehensive standard library. The best way we learn anything is by practice and exercise questions. We  have started this section for those (beginner to intermediate) who are familiar with Python.\n"
          ]
        }
      ],
      "source": [
        "texto = ('What is Python language? \\nPython is a widely used high-level, general-purpose, interpreted, dynamic programming language. Its design philosophy emphasizes code readability, and its syntax allows programmers to express concepts in fewer lines of code than possible in languages such as C++ or Java. \\nPython supports multiple programming paradigms, including object-oriented, imperative and functional programming or procedural styles. It features a dynamic type system and automatic memory management and has a large and comprehensive standard library. The best way we learn anything is by practice and exercise questions. We  have started this section for those (beginner to intermediate) who are familiar with Python.')\n",
        "print (texto)"
      ]
    },
    {
      "cell_type": "code",
      "execution_count": 33,
      "metadata": {
        "id": "ZYbqEWBG5nKx"
      },
      "outputs": [],
      "source": [
        "resultado = []\n",
        "for i in texto.split():\n",
        "  resultado.append([i, len(i)])\n",
        "  "
      ]
    },
    {
      "cell_type": "code",
      "source": [
        "print (resultado)"
      ],
      "metadata": {
        "id": "hVoIBFGQgp0U",
        "outputId": "a0686930-85e4-4e83-e81d-1c7f855dbef6",
        "colab": {
          "base_uri": "https://localhost:8080/"
        }
      },
      "execution_count": 34,
      "outputs": [
        {
          "output_type": "stream",
          "name": "stdout",
          "text": [
            "[['What', 4], ['is', 2], ['Python', 6], ['language?', 9], ['Python', 6], ['is', 2], ['a', 1], ['widely', 6], ['used', 4], ['high-level,', 11], ['general-purpose,', 16], ['interpreted,', 12], ['dynamic', 7], ['programming', 11], ['language.', 9], ['Its', 3], ['design', 6], ['philosophy', 10], ['emphasizes', 10], ['code', 4], ['readability,', 12], ['and', 3], ['its', 3], ['syntax', 6], ['allows', 6], ['programmers', 11], ['to', 2], ['express', 7], ['concepts', 8], ['in', 2], ['fewer', 5], ['lines', 5], ['of', 2], ['code', 4], ['than', 4], ['possible', 8], ['in', 2], ['languages', 9], ['such', 4], ['as', 2], ['C++', 3], ['or', 2], ['Java.', 5], ['Python', 6], ['supports', 8], ['multiple', 8], ['programming', 11], ['paradigms,', 10], ['including', 9], ['object-oriented,', 16], ['imperative', 10], ['and', 3], ['functional', 10], ['programming', 11], ['or', 2], ['procedural', 10], ['styles.', 7], ['It', 2], ['features', 8], ['a', 1], ['dynamic', 7], ['type', 4], ['system', 6], ['and', 3], ['automatic', 9], ['memory', 6], ['management', 10], ['and', 3], ['has', 3], ['a', 1], ['large', 5], ['and', 3], ['comprehensive', 13], ['standard', 8], ['library.', 8], ['The', 3], ['best', 4], ['way', 3], ['we', 2], ['learn', 5], ['anything', 8], ['is', 2], ['by', 2], ['practice', 8], ['and', 3], ['exercise', 8], ['questions.', 10], ['We', 2], ['have', 4], ['started', 7], ['this', 4], ['section', 7], ['for', 3], ['those', 5], ['(beginner', 9], ['to', 2], ['intermediate)', 13], ['who', 3], ['are', 3], ['familiar', 8], ['with', 4], ['Python.', 7]]\n"
          ]
        }
      ]
    },
    {
      "cell_type": "code",
      "source": [
        "max(resultado)"
      ],
      "metadata": {
        "id": "JEY_qBjpg06Z",
        "outputId": "7e763e77-706b-4633-fed6-527e390d0980",
        "colab": {
          "base_uri": "https://localhost:8080/"
        }
      },
      "execution_count": 35,
      "outputs": [
        {
          "output_type": "execute_result",
          "data": {
            "text/plain": [
              "['with', 4]"
            ]
          },
          "metadata": {},
          "execution_count": 35
        }
      ]
    },
    {
      "cell_type": "code",
      "source": [
        "print (texto.split())\n",
        "texto_resultado = texto.split()"
      ],
      "metadata": {
        "id": "W5jlIby0haAM",
        "outputId": "cc81f881-0c50-4f3e-f211-21e9b9770ee0",
        "colab": {
          "base_uri": "https://localhost:8080/"
        }
      },
      "execution_count": 36,
      "outputs": [
        {
          "output_type": "stream",
          "name": "stdout",
          "text": [
            "['What', 'is', 'Python', 'language?', 'Python', 'is', 'a', 'widely', 'used', 'high-level,', 'general-purpose,', 'interpreted,', 'dynamic', 'programming', 'language.', 'Its', 'design', 'philosophy', 'emphasizes', 'code', 'readability,', 'and', 'its', 'syntax', 'allows', 'programmers', 'to', 'express', 'concepts', 'in', 'fewer', 'lines', 'of', 'code', 'than', 'possible', 'in', 'languages', 'such', 'as', 'C++', 'or', 'Java.', 'Python', 'supports', 'multiple', 'programming', 'paradigms,', 'including', 'object-oriented,', 'imperative', 'and', 'functional', 'programming', 'or', 'procedural', 'styles.', 'It', 'features', 'a', 'dynamic', 'type', 'system', 'and', 'automatic', 'memory', 'management', 'and', 'has', 'a', 'large', 'and', 'comprehensive', 'standard', 'library.', 'The', 'best', 'way', 'we', 'learn', 'anything', 'is', 'by', 'practice', 'and', 'exercise', 'questions.', 'We', 'have', 'started', 'this', 'section', 'for', 'those', '(beginner', 'to', 'intermediate)', 'who', 'are', 'familiar', 'with', 'Python.']\n"
          ]
        }
      ]
    },
    {
      "cell_type": "code",
      "source": [
        "texto_resultado = sorted(set(texto_resultado), key=len , reverse=True)\n"
      ],
      "metadata": {
        "id": "j3k9I960iKg_"
      },
      "execution_count": 37,
      "outputs": []
    },
    {
      "cell_type": "code",
      "source": [
        "texto_resultado[0:9]"
      ],
      "metadata": {
        "id": "UK1qE34Cjtfc",
        "outputId": "83ff9228-2aae-44be-8a32-abf6eb5bf87c",
        "colab": {
          "base_uri": "https://localhost:8080/"
        }
      },
      "execution_count": 38,
      "outputs": [
        {
          "output_type": "execute_result",
          "data": {
            "text/plain": [
              "['general-purpose,',\n",
              " 'object-oriented,',\n",
              " 'intermediate)',\n",
              " 'comprehensive',\n",
              " 'readability,',\n",
              " 'interpreted,',\n",
              " 'programmers',\n",
              " 'programming',\n",
              " 'high-level,']"
            ]
          },
          "metadata": {},
          "execution_count": 38
        }
      ]
    }
  ],
  "metadata": {
    "anaconda-cloud": {},
    "colab": {
      "name": "Desafio 8.ipynb",
      "provenance": [],
      "include_colab_link": true
    },
    "kernelspec": {
      "display_name": "Python 3",
      "language": "python",
      "name": "python3"
    },
    "language_info": {
      "codemirror_mode": {
        "name": "ipython",
        "version": 3
      },
      "file_extension": ".py",
      "mimetype": "text/x-python",
      "name": "python",
      "nbconvert_exporter": "python",
      "pygments_lexer": "ipython3",
      "version": "3.7.9"
    }
  },
  "nbformat": 4,
  "nbformat_minor": 0
}